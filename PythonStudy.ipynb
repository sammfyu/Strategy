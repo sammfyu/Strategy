{
 "cells": [
  {
   "cell_type": "code",
   "execution_count": 1,
   "id": "0c5bf142",
   "metadata": {},
   "outputs": [],
   "source": [
    "#coding=utf-8"
   ]
  },
  {
   "cell_type": "code",
   "execution_count": 13,
   "id": "501d6f58",
   "metadata": {},
   "outputs": [],
   "source": [
    "i = 100; r = 0; s = 0; t = 0"
   ]
  },
  {
   "cell_type": "code",
   "execution_count": 14,
   "id": "5eeb1c9b",
   "metadata": {
    "scrolled": true
   },
   "outputs": [
    {
     "name": "stdout",
     "output_type": "stream",
     "text": [
      "i =153\n",
      "i =370\n",
      "i =371\n",
      "i =407\n"
     ]
    }
   ],
   "source": [
    "while i < 1000: \n",
    "    r = i // 100\n",
    "    s = (i - r * 100) // 10\n",
    "    t = i - r * 100 - s * 10\n",
    "    if i == (r ** 3 + s ** 3 + t ** 3):\n",
    "        print(\"i =\" + str(i))\n",
    "    i += 1"
   ]
  },
  {
   "cell_type": "code",
   "execution_count": 15,
   "id": "3fd20716",
   "metadata": {
    "scrolled": true
   },
   "outputs": [
    {
     "name": "stdout",
     "output_type": "stream",
     "text": [
      "----字符串----\n",
      "H\n",
      "e\n",
      "l\n",
      "l\n",
      "o\n"
     ]
    }
   ],
   "source": [
    "print(\"----字符串----\")\n",
    "for item in 'Hello':\n",
    "    print(item)\n",
    "    "
   ]
  },
  {
   "cell_type": "code",
   "execution_count": 18,
   "id": "6957826b",
   "metadata": {},
   "outputs": [
    {
     "name": "stdout",
     "output_type": "stream",
     "text": [
      "----整数列表----\n",
      "43\n",
      "32\n",
      "55\n",
      "74\n"
     ]
    }
   ],
   "source": [
    "#声明整数列表\n",
    "numbers = [43, 32, 55, 74]\n",
    "print(\"----整数列表----\")\n",
    "for item in numbers:\n",
    "    print(item)"
   ]
  },
  {
   "cell_type": "code",
   "execution_count": 12,
   "id": "b027601b",
   "metadata": {},
   "outputs": [
    {
     "name": "stdout",
     "output_type": "stream",
     "text": [
      "9\n"
     ]
    }
   ],
   "source": [
    "for item in range(10):\n",
    "    if item == 3:\n",
    "        continue\n",
    "print(item)"
   ]
  },
  {
   "cell_type": "code",
   "execution_count": 21,
   "id": "9236fd4e",
   "metadata": {},
   "outputs": [],
   "source": [
    "i =0\n",
    "while i * i < 10:\n",
    "    i += 1\n",
    "    if i == 3:\n",
    "        break\n",
    "        print(str(i) + '*' + str(i) + '=', i * i)\n",
    "else:\n",
    "    print('While Over!')"
   ]
  },
  {
   "cell_type": "code",
   "execution_count": 22,
   "id": "67c88255",
   "metadata": {},
   "outputs": [
    {
     "name": "stdout",
     "output_type": "stream",
     "text": [
      "6\n"
     ]
    }
   ],
   "source": [
    "a =3; b = 4; x = 5\n",
    "if a < b:\n",
    "    a += 1\n",
    "    x += 1\n",
    "    print(x)"
   ]
  },
  {
   "cell_type": "code",
   "execution_count": 27,
   "id": "ee21c6e5",
   "metadata": {},
   "outputs": [
    {
     "name": "stdout",
     "output_type": "stream",
     "text": [
      "o H\n"
     ]
    }
   ],
   "source": [
    "a = \"Hello\"\n",
    "print(a[4],a[0])"
   ]
  },
  {
   "cell_type": "code",
   "execution_count": 28,
   "id": "b83c07a7",
   "metadata": {},
   "outputs": [
    {
     "name": "stdout",
     "output_type": "stream",
     "text": [
      "HelloHello\n"
     ]
    }
   ],
   "source": [
    "a = \"Hello\"\n",
    "a = a * 2\n",
    "print(a)"
   ]
  },
  {
   "cell_type": "code",
   "execution_count": 29,
   "id": "8abbb488",
   "metadata": {},
   "outputs": [
    {
     "name": "stdout",
     "output_type": "stream",
     "text": [
      "Hello,World\n"
     ]
    }
   ],
   "source": [
    "a = \"Hello\"\n",
    "a = \"Hello\" + \",\"\n",
    "a += \"World\"\n",
    "print(a)"
   ]
  },
  {
   "cell_type": "code",
   "execution_count": 38,
   "id": "87431ecc",
   "metadata": {},
   "outputs": [
    {
     "name": "stdout",
     "output_type": "stream",
     "text": [
      "<class 'list'>\n"
     ]
    }
   ],
   "source": [
    "list('Hello, world')\n",
    "print(list)"
   ]
  },
  {
   "cell_type": "code",
   "execution_count": null,
   "id": "f042f7ca",
   "metadata": {},
   "outputs": [],
   "source": []
  }
 ],
 "metadata": {
  "kernelspec": {
   "display_name": "Python 3 (ipykernel)",
   "language": "python",
   "name": "python3"
  },
  "language_info": {
   "codemirror_mode": {
    "name": "ipython",
    "version": 3
   },
   "file_extension": ".py",
   "mimetype": "text/x-python",
   "name": "python",
   "nbconvert_exporter": "python",
   "pygments_lexer": "ipython3",
   "version": "3.8.10"
  }
 },
 "nbformat": 4,
 "nbformat_minor": 5
}

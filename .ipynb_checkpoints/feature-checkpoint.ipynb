{
 "cells": [
  {
   "cell_type": "markdown",
   "id": "44b7b20f",
   "metadata": {},
   "source": [
    "# Create Continuous Time Feature\n",
    "\n",
    "- Specify Date Range, Instrument, freq"
   ]
  },
  {
   "cell_type": "code",
   "execution_count": 16,
   "id": "bf54ca21",
   "metadata": {},
   "outputs": [
    {
     "ename": "KeyboardInterrupt",
     "evalue": "",
     "output_type": "error",
     "traceback": [
      "\u001b[0;31m---------------------------------------------------------------------------\u001b[0m",
      "\u001b[0;31mKeyboardInterrupt\u001b[0m                         Traceback (most recent call last)",
      "Input \u001b[0;32mIn [16]\u001b[0m, in \u001b[0;36m<cell line: 23>\u001b[0;34m()\u001b[0m\n\u001b[1;32m     25\u001b[0m df\u001b[38;5;241m.\u001b[39mindex \u001b[38;5;241m=\u001b[39m pd\u001b[38;5;241m.\u001b[39mto_datetime(df\u001b[38;5;241m.\u001b[39mindex)\n\u001b[1;32m     26\u001b[0m df[\u001b[38;5;124m'\u001b[39m\u001b[38;5;124mMidPrice\u001b[39m\u001b[38;5;124m'\u001b[39m] \u001b[38;5;241m=\u001b[39m \u001b[38;5;241m0.5\u001b[39m\u001b[38;5;241m*\u001b[39m (df[\u001b[38;5;124m'\u001b[39m\u001b[38;5;124mBidPrice1\u001b[39m\u001b[38;5;124m'\u001b[39m] \u001b[38;5;241m+\u001b[39m df[\u001b[38;5;124m'\u001b[39m\u001b[38;5;124mAskPrice1\u001b[39m\u001b[38;5;124m'\u001b[39m])\n\u001b[0;32m---> 27\u001b[0m ohlc \u001b[38;5;241m=\u001b[39m \u001b[43mhelpers\u001b[49m\u001b[38;5;241;43m.\u001b[39;49m\u001b[43mGetOHLC\u001b[49m\u001b[43m(\u001b[49m\u001b[43mdf\u001b[49m\u001b[43m,\u001b[49m\u001b[43m \u001b[49m\u001b[43mfreq\u001b[49m\u001b[43m)\u001b[49m\n\u001b[1;32m     28\u001b[0m ohlc[[\u001b[38;5;124m'\u001b[39m\u001b[38;5;124mContract\u001b[39m\u001b[38;5;124m'\u001b[39m, \u001b[38;5;124m'\u001b[39m\u001b[38;5;124mTradeDate\u001b[39m\u001b[38;5;124m'\u001b[39m, \u001b[38;5;124m'\u001b[39m\u001b[38;5;124mPreClose\u001b[39m\u001b[38;5;124m'\u001b[39m]] \u001b[38;5;241m=\u001b[39m df[\u001b[38;5;124m'\u001b[39m\u001b[38;5;124mInstrumentID\u001b[39m\u001b[38;5;124m'\u001b[39m]\u001b[38;5;241m.\u001b[39miloc[\u001b[38;5;241m0\u001b[39m], df[\u001b[38;5;124m'\u001b[39m\u001b[38;5;124mTradingDay\u001b[39m\u001b[38;5;124m'\u001b[39m]\u001b[38;5;241m.\u001b[39miloc[\u001b[38;5;241m0\u001b[39m], df[\u001b[38;5;124m'\u001b[39m\u001b[38;5;124mPreClosePrice\u001b[39m\u001b[38;5;124m'\u001b[39m]\u001b[38;5;241m.\u001b[39miloc[\u001b[38;5;241m0\u001b[39m]\n\u001b[1;32m     30\u001b[0m big\u001b[38;5;241m.\u001b[39mappend(ohlc)\n",
      "File \u001b[0;32m/home/jupyter_projects/helpers.py:36\u001b[0m, in \u001b[0;36mGetOHLC\u001b[0;34m(df, second)\u001b[0m\n\u001b[1;32m     34\u001b[0m \u001b[38;5;66;03m# Day\u001b[39;00m\n\u001b[1;32m     35\u001b[0m d \u001b[38;5;241m=\u001b[39m df[(df\u001b[38;5;241m.\u001b[39mindex\u001b[38;5;241m.\u001b[39mhour \u001b[38;5;241m<\u001b[39m \u001b[38;5;241m16\u001b[39m) \u001b[38;5;241m&\u001b[39m (df\u001b[38;5;241m.\u001b[39mindex\u001b[38;5;241m.\u001b[39mhour \u001b[38;5;241m>\u001b[39m \u001b[38;5;241m8\u001b[39m)]\n\u001b[0;32m---> 36\u001b[0m od \u001b[38;5;241m=\u001b[39m \u001b[43md\u001b[49m\u001b[43m[\u001b[49m\u001b[38;5;124;43m'\u001b[39;49m\u001b[38;5;124;43mMidPrice\u001b[39;49m\u001b[38;5;124;43m'\u001b[39;49m\u001b[43m]\u001b[49m\u001b[38;5;241;43m.\u001b[39;49m\u001b[43mresample\u001b[49m\u001b[43m(\u001b[49m\u001b[43msecond\u001b[49m\u001b[43m)\u001b[49m\u001b[38;5;241;43m.\u001b[39;49m\u001b[43mohlc\u001b[49m\u001b[43m(\u001b[49m\u001b[43m)\u001b[49m\n\u001b[1;32m     37\u001b[0m od[\u001b[38;5;124m'\u001b[39m\u001b[38;5;124mvolume\u001b[39m\u001b[38;5;124m'\u001b[39m] \u001b[38;5;241m=\u001b[39m d[\u001b[38;5;124m'\u001b[39m\u001b[38;5;124mvolume\u001b[39m\u001b[38;5;124m'\u001b[39m]\u001b[38;5;241m.\u001b[39mresample(second)\u001b[38;5;241m.\u001b[39msum()\n\u001b[1;32m     38\u001b[0m od\u001b[38;5;241m.\u001b[39mindex \u001b[38;5;241m=\u001b[39m od\u001b[38;5;241m.\u001b[39mindex\u001b[38;5;241m.\u001b[39mshift(\u001b[38;5;241m1\u001b[39m)\n",
      "File \u001b[0;32m/usr/local/lib/python3.8/dist-packages/pandas/core/resample.py:1039\u001b[0m, in \u001b[0;36mg\u001b[0;34m(self, _method, *args, **kwargs)\u001b[0m\n\u001b[1;32m   1037\u001b[0m \u001b[38;5;28;01mdef\u001b[39;00m \u001b[38;5;21mg\u001b[39m(\u001b[38;5;28mself\u001b[39m, _method\u001b[38;5;241m=\u001b[39mmethod, \u001b[38;5;241m*\u001b[39margs, \u001b[38;5;241m*\u001b[39m\u001b[38;5;241m*\u001b[39mkwargs):\n\u001b[1;32m   1038\u001b[0m     nv\u001b[38;5;241m.\u001b[39mvalidate_resampler_func(_method, args, kwargs)\n\u001b[0;32m-> 1039\u001b[0m     \u001b[38;5;28;01mreturn\u001b[39;00m \u001b[38;5;28;43mself\u001b[39;49m\u001b[38;5;241;43m.\u001b[39;49m\u001b[43m_downsample\u001b[49m\u001b[43m(\u001b[49m\u001b[43m_method\u001b[49m\u001b[43m)\u001b[49m\n",
      "File \u001b[0;32m/usr/local/lib/python3.8/dist-packages/pandas/core/resample.py:1180\u001b[0m, in \u001b[0;36mDatetimeIndexResampler._downsample\u001b[0;34m(self, how, **kwargs)\u001b[0m\n\u001b[1;32m   1174\u001b[0m     \u001b[38;5;28;01mreturn\u001b[39;00m obj\n\u001b[1;32m   1176\u001b[0m \u001b[38;5;66;03m# do we have a regular frequency\u001b[39;00m\n\u001b[1;32m   1177\u001b[0m \n\u001b[1;32m   1178\u001b[0m \u001b[38;5;66;03m# error: Item \"None\" of \"Optional[Any]\" has no attribute \"binlabels\"\u001b[39;00m\n\u001b[1;32m   1179\u001b[0m \u001b[38;5;28;01mif\u001b[39;00m (\n\u001b[0;32m-> 1180\u001b[0m     (ax\u001b[38;5;241m.\u001b[39mfreq \u001b[38;5;129;01mis\u001b[39;00m \u001b[38;5;129;01mnot\u001b[39;00m \u001b[38;5;28;01mNone\u001b[39;00m \u001b[38;5;129;01mor\u001b[39;00m \u001b[43max\u001b[49m\u001b[38;5;241;43m.\u001b[39;49m\u001b[43minferred_freq\u001b[49m \u001b[38;5;129;01mis\u001b[39;00m \u001b[38;5;129;01mnot\u001b[39;00m \u001b[38;5;28;01mNone\u001b[39;00m)\n\u001b[1;32m   1181\u001b[0m     \u001b[38;5;129;01mand\u001b[39;00m \u001b[38;5;28mlen\u001b[39m(\u001b[38;5;28mself\u001b[39m\u001b[38;5;241m.\u001b[39mgrouper\u001b[38;5;241m.\u001b[39mbinlabels) \u001b[38;5;241m>\u001b[39m \u001b[38;5;28mlen\u001b[39m(ax)\n\u001b[1;32m   1182\u001b[0m     \u001b[38;5;129;01mand\u001b[39;00m how \u001b[38;5;129;01mis\u001b[39;00m \u001b[38;5;28;01mNone\u001b[39;00m\n\u001b[1;32m   1183\u001b[0m ):\n\u001b[1;32m   1184\u001b[0m \n\u001b[1;32m   1185\u001b[0m     \u001b[38;5;66;03m# let's do an asfreq\u001b[39;00m\n\u001b[1;32m   1186\u001b[0m     \u001b[38;5;28;01mreturn\u001b[39;00m \u001b[38;5;28mself\u001b[39m\u001b[38;5;241m.\u001b[39masfreq()\n\u001b[1;32m   1188\u001b[0m \u001b[38;5;66;03m# we are downsampling\u001b[39;00m\n\u001b[1;32m   1189\u001b[0m \u001b[38;5;66;03m# we want to call the actual grouper method here\u001b[39;00m\n",
      "File \u001b[0;32m/usr/local/lib/python3.8/dist-packages/pandas/_libs/properties.pyx:37\u001b[0m, in \u001b[0;36mpandas._libs.properties.CachedProperty.__get__\u001b[0;34m()\u001b[0m\n",
      "File \u001b[0;32m/usr/local/lib/python3.8/dist-packages/pandas/core/indexes/extension.py:59\u001b[0m, in \u001b[0;36m_inherit_from_data.<locals>.cached\u001b[0;34m(self)\u001b[0m\n\u001b[1;32m     58\u001b[0m \u001b[38;5;28;01mdef\u001b[39;00m \u001b[38;5;21mcached\u001b[39m(\u001b[38;5;28mself\u001b[39m):\n\u001b[0;32m---> 59\u001b[0m     \u001b[38;5;28;01mreturn\u001b[39;00m \u001b[38;5;28;43mgetattr\u001b[39;49m\u001b[43m(\u001b[49m\u001b[38;5;28;43mself\u001b[39;49m\u001b[38;5;241;43m.\u001b[39;49m\u001b[43m_data\u001b[49m\u001b[43m,\u001b[49m\u001b[43m \u001b[49m\u001b[43mname\u001b[49m\u001b[43m)\u001b[49m\n",
      "File \u001b[0;32m/usr/local/lib/python3.8/dist-packages/pandas/core/arrays/datetimelike.py:917\u001b[0m, in \u001b[0;36mDatetimeLikeArrayMixin.inferred_freq\u001b[0;34m(self)\u001b[0m\n\u001b[1;32m    915\u001b[0m     \u001b[38;5;28;01mreturn\u001b[39;00m \u001b[38;5;28;01mNone\u001b[39;00m\n\u001b[1;32m    916\u001b[0m \u001b[38;5;28;01mtry\u001b[39;00m:\n\u001b[0;32m--> 917\u001b[0m     \u001b[38;5;28;01mreturn\u001b[39;00m \u001b[43mfrequencies\u001b[49m\u001b[38;5;241;43m.\u001b[39;49m\u001b[43minfer_freq\u001b[49m\u001b[43m(\u001b[49m\u001b[38;5;28;43mself\u001b[39;49m\u001b[43m)\u001b[49m\n\u001b[1;32m    918\u001b[0m \u001b[38;5;28;01mexcept\u001b[39;00m \u001b[38;5;167;01mValueError\u001b[39;00m:\n\u001b[1;32m    919\u001b[0m     \u001b[38;5;28;01mreturn\u001b[39;00m \u001b[38;5;28;01mNone\u001b[39;00m\n",
      "File \u001b[0;32m/usr/local/lib/python3.8/dist-packages/pandas/tseries/frequencies.py:203\u001b[0m, in \u001b[0;36minfer_freq\u001b[0;34m(index, warn)\u001b[0m\n\u001b[1;32m    200\u001b[0m     index \u001b[38;5;241m=\u001b[39m DatetimeIndex(index)\n\u001b[1;32m    202\u001b[0m inferer \u001b[38;5;241m=\u001b[39m _FrequencyInferer(index, warn\u001b[38;5;241m=\u001b[39mwarn)\n\u001b[0;32m--> 203\u001b[0m \u001b[38;5;28;01mreturn\u001b[39;00m \u001b[43minferer\u001b[49m\u001b[38;5;241;43m.\u001b[39;49m\u001b[43mget_freq\u001b[49m\u001b[43m(\u001b[49m\u001b[43m)\u001b[49m\n",
      "File \u001b[0;32m/usr/local/lib/python3.8/dist-packages/pandas/tseries/frequencies.py:262\u001b[0m, in \u001b[0;36m_FrequencyInferer.get_freq\u001b[0;34m(self)\u001b[0m\n\u001b[1;32m    259\u001b[0m \u001b[38;5;28;01mif\u001b[39;00m \u001b[38;5;129;01mnot\u001b[39;00m \u001b[38;5;28mself\u001b[39m\u001b[38;5;241m.\u001b[39mis_monotonic \u001b[38;5;129;01mor\u001b[39;00m \u001b[38;5;129;01mnot\u001b[39;00m \u001b[38;5;28mself\u001b[39m\u001b[38;5;241m.\u001b[39mindex\u001b[38;5;241m.\u001b[39m_is_unique:\n\u001b[1;32m    260\u001b[0m     \u001b[38;5;28;01mreturn\u001b[39;00m \u001b[38;5;28;01mNone\u001b[39;00m\n\u001b[0;32m--> 262\u001b[0m delta \u001b[38;5;241m=\u001b[39m \u001b[38;5;28;43mself\u001b[39;49m\u001b[38;5;241;43m.\u001b[39;49m\u001b[43mdeltas\u001b[49m[\u001b[38;5;241m0\u001b[39m]\n\u001b[1;32m    263\u001b[0m \u001b[38;5;28;01mif\u001b[39;00m delta \u001b[38;5;129;01mand\u001b[39;00m _is_multiple(delta, _ONE_DAY):\n\u001b[1;32m    264\u001b[0m     \u001b[38;5;28;01mreturn\u001b[39;00m \u001b[38;5;28mself\u001b[39m\u001b[38;5;241m.\u001b[39m_infer_daily_rule()\n",
      "File \u001b[0;32m/usr/local/lib/python3.8/dist-packages/pandas/_libs/properties.pyx:37\u001b[0m, in \u001b[0;36mpandas._libs.properties.CachedProperty.__get__\u001b[0;34m()\u001b[0m\n",
      "File \u001b[0;32m/usr/local/lib/python3.8/dist-packages/pandas/tseries/frequencies.py:234\u001b[0m, in \u001b[0;36m_FrequencyInferer.deltas\u001b[0;34m(self)\u001b[0m\n\u001b[1;32m    232\u001b[0m \u001b[38;5;129m@cache_readonly\u001b[39m\n\u001b[1;32m    233\u001b[0m \u001b[38;5;28;01mdef\u001b[39;00m \u001b[38;5;21mdeltas\u001b[39m(\u001b[38;5;28mself\u001b[39m) \u001b[38;5;241m-\u001b[39m\u001b[38;5;241m>\u001b[39m npt\u001b[38;5;241m.\u001b[39mNDArray[np\u001b[38;5;241m.\u001b[39mint64]:\n\u001b[0;32m--> 234\u001b[0m     \u001b[38;5;28;01mreturn\u001b[39;00m \u001b[43munique_deltas\u001b[49m\u001b[43m(\u001b[49m\u001b[38;5;28;43mself\u001b[39;49m\u001b[38;5;241;43m.\u001b[39;49m\u001b[43mi8values\u001b[49m\u001b[43m)\u001b[49m\n",
      "File \u001b[0;32m/usr/local/lib/python3.8/dist-packages/pandas/_libs/algos.pyx:116\u001b[0m, in \u001b[0;36mpandas._libs.algos.unique_deltas\u001b[0;34m()\u001b[0m\n",
      "File \u001b[0;32m/usr/local/lib/python3.8/dist-packages/pandas/_libs/algos.pyx:148\u001b[0m, in \u001b[0;36mpandas._libs.algos.unique_deltas\u001b[0;34m()\u001b[0m\n",
      "\u001b[0;31mKeyboardInterrupt\u001b[0m: "
     ]
    }
   ],
   "source": [
    "%reload_ext autoreload\n",
    "%autoreload 2\n",
    "\n",
    "import pandas as pd\n",
    "import numpy as np\n",
    "import database as db\n",
    "import pandas_ta as ta\n",
    "import helpers\n",
    "import os\n",
    "\n",
    "pd.set_option('display.max_rows', 100)\n",
    "\n",
    "\n",
    "# Data Parameters\n",
    "data_path  = './data'\n",
    "feature_path = './features'\n",
    "instrument = 'EG'\n",
    "freq = '120s'\n",
    "dates = db.GetTradeDates(instrument)[:]\n",
    "\n",
    "# Read CSV Data\n",
    "big = []\n",
    "for date in dates:\n",
    "    df = pd.read_csv(data_path + os.sep + instrument + os.sep + date + '.csv', index_col=0)\n",
    "    df.index = pd.to_datetime(df.index)\n",
    "    df['MidPrice'] = 0.5* (df['BidPrice1'] + df['AskPrice1'])\n",
    "    ohlc = helpers.GetOHLC(df, freq)\n",
    "    ohlc[['Contract', 'TradeDate', 'PreClose']] = df['InstrumentID'].iloc[0], df['TradingDay'].iloc[0], df['PreClosePrice'].iloc[0]\n",
    "    \n",
    "    big.append(ohlc)\n",
    "\n",
    "big = pd.concat(big, axis=0)\n",
    "close = big[['close']].shift(1)\n",
    "close.columns=['last_close']\n",
    "rsi6  = big.ta.rsi(6)\n",
    "rsi14 = big.ta.rsi(14)\n",
    "rsi50 = big.ta.rsi(50)\n",
    "boll = big.ta.bbands(14)\n",
    "big = pd.concat([big, close, rsi6, rsi14, rsi50, boll], axis=1)\n",
    "\n",
    "big.to_csv(feature_path + os.sep + '{}_feature_{}.csv'.format(instrument, freq))"
   ]
  },
  {
   "cell_type": "code",
   "execution_count": null,
   "id": "037ecb60",
   "metadata": {},
   "outputs": [],
   "source": []
  }
 ],
 "metadata": {
  "kernelspec": {
   "display_name": "Python 3 (ipykernel)",
   "language": "python",
   "name": "python3"
  },
  "language_info": {
   "codemirror_mode": {
    "name": "ipython",
    "version": 3
   },
   "file_extension": ".py",
   "mimetype": "text/x-python",
   "name": "python",
   "nbconvert_exporter": "python",
   "pygments_lexer": "ipython3",
   "version": "3.8.10"
  }
 },
 "nbformat": 4,
 "nbformat_minor": 5
}
